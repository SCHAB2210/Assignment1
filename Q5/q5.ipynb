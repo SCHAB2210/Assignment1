{
 "cells": [
  {
   "cell_type": "code",
   "execution_count": 1,
   "metadata": {},
   "outputs": [],
   "source": [
    "import numpy as np\n",
    "import tensorflow as tf\n",
    "from tensorflow.keras.models import Sequential\n",
    "from tensorflow.keras.layers import Dense, Conv1D, Flatten\n",
    "from sklearn.model_selection import train_test_split\n",
    "import matplotlib.pyplot as plt"
   ]
  },
  {
   "cell_type": "code",
   "execution_count": 2,
   "metadata": {},
   "outputs": [],
   "source": [
    "# Step 1: Generate the data\n",
    "np.random.seed(42)\n",
    "x = np.random.randn(1000, 100)\n",
    "beta_0 = 7\n",
    "beta_1 = 1\n",
    "y = beta_0 + beta_1 * x.sum(axis=1)"
   ]
  },
  {
   "cell_type": "code",
   "execution_count": 3,
   "metadata": {},
   "outputs": [],
   "source": [
    "# Step 2: Split the data\n",
    "x_train, x_temp, y_train, y_temp = train_test_split(x, y, test_size=0.3, random_state=42)\n",
    "x_val, x_test, y_val, y_test = train_test_split(x_temp, y_temp, test_size=0.33, random_state=42)"
   ]
  },
  {
   "cell_type": "code",
   "execution_count": 4,
   "metadata": {},
   "outputs": [],
   "source": [
    "# Step 3: Define the CNN model\n",
    "model = Sequential([\n",
    "    Conv1D(32, kernel_size=3, activation='relu', input_shape=(100, 1)),\n",
    "    Flatten(),\n",
    "    Dense(64, activation='relu'),\n",
    "    Dense(1)\n",
    "])\n",
    "\n",
    "model.compile(optimizer='adam', loss='mean_squared_error')\n"
   ]
  },
  {
   "cell_type": "code",
   "execution_count": 5,
   "metadata": {},
   "outputs": [
    {
     "name": "stdout",
     "output_type": "stream",
     "text": [
      "Epoch 1/50\n",
      "22/22 [==============================] - 1s 13ms/step - loss: 107.4400 - val_loss: 94.9709\n",
      "Epoch 2/50\n",
      "22/22 [==============================] - 0s 9ms/step - loss: 69.5753 - val_loss: 59.3271\n",
      "Epoch 3/50\n",
      "22/22 [==============================] - 0s 6ms/step - loss: 35.9283 - val_loss: 27.0215\n",
      "Epoch 4/50\n",
      "22/22 [==============================] - 0s 5ms/step - loss: 14.3500 - val_loss: 8.2115\n",
      "Epoch 5/50\n",
      "22/22 [==============================] - 0s 5ms/step - loss: 4.6833 - val_loss: 3.1257\n",
      "Epoch 6/50\n",
      "22/22 [==============================] - 0s 5ms/step - loss: 1.7545 - val_loss: 2.0784\n",
      "Epoch 7/50\n",
      "22/22 [==============================] - 0s 5ms/step - loss: 1.0249 - val_loss: 1.4806\n",
      "Epoch 8/50\n",
      "22/22 [==============================] - 0s 8ms/step - loss: 0.6946 - val_loss: 1.2006\n",
      "Epoch 9/50\n",
      "22/22 [==============================] - 0s 5ms/step - loss: 0.5212 - val_loss: 0.9889\n",
      "Epoch 10/50\n",
      "22/22 [==============================] - 0s 6ms/step - loss: 0.4033 - val_loss: 0.8776\n",
      "Epoch 11/50\n",
      "22/22 [==============================] - 0s 6ms/step - loss: 0.3224 - val_loss: 0.7148\n",
      "Epoch 12/50\n",
      "22/22 [==============================] - 0s 5ms/step - loss: 0.2844 - val_loss: 0.6261\n",
      "Epoch 13/50\n",
      "22/22 [==============================] - 0s 5ms/step - loss: 0.2221 - val_loss: 0.5756\n",
      "Epoch 14/50\n",
      "22/22 [==============================] - 0s 5ms/step - loss: 0.1870 - val_loss: 0.5150\n",
      "Epoch 15/50\n",
      "22/22 [==============================] - 0s 5ms/step - loss: 0.1690 - val_loss: 0.4489\n",
      "Epoch 16/50\n",
      "22/22 [==============================] - 0s 5ms/step - loss: 0.1560 - val_loss: 0.4531\n",
      "Epoch 17/50\n",
      "22/22 [==============================] - 0s 5ms/step - loss: 0.1280 - val_loss: 0.3610\n",
      "Epoch 18/50\n",
      "22/22 [==============================] - 0s 5ms/step - loss: 0.1199 - val_loss: 0.3450\n",
      "Epoch 19/50\n",
      "22/22 [==============================] - 0s 5ms/step - loss: 0.1252 - val_loss: 0.3517\n",
      "Epoch 20/50\n",
      "22/22 [==============================] - 0s 5ms/step - loss: 0.0953 - val_loss: 0.2942\n",
      "Epoch 21/50\n",
      "22/22 [==============================] - 0s 5ms/step - loss: 0.0784 - val_loss: 0.2841\n",
      "Epoch 22/50\n",
      "22/22 [==============================] - 0s 5ms/step - loss: 0.0738 - val_loss: 0.2829\n",
      "Epoch 23/50\n",
      "22/22 [==============================] - 0s 5ms/step - loss: 0.0721 - val_loss: 0.2777\n",
      "Epoch 24/50\n",
      "22/22 [==============================] - 0s 5ms/step - loss: 0.0758 - val_loss: 0.2631\n",
      "Epoch 25/50\n",
      "22/22 [==============================] - 0s 5ms/step - loss: 0.0694 - val_loss: 0.2532\n",
      "Epoch 26/50\n",
      "22/22 [==============================] - 0s 5ms/step - loss: 0.0560 - val_loss: 0.2420\n",
      "Epoch 27/50\n",
      "22/22 [==============================] - 0s 5ms/step - loss: 0.0572 - val_loss: 0.2395\n",
      "Epoch 28/50\n",
      "22/22 [==============================] - 0s 5ms/step - loss: 0.0634 - val_loss: 0.2368\n",
      "Epoch 29/50\n",
      "22/22 [==============================] - 0s 5ms/step - loss: 0.0513 - val_loss: 0.2133\n",
      "Epoch 30/50\n",
      "22/22 [==============================] - 0s 5ms/step - loss: 0.0649 - val_loss: 0.2416\n",
      "Epoch 31/50\n",
      "22/22 [==============================] - 0s 5ms/step - loss: 0.0625 - val_loss: 0.2377\n",
      "Epoch 32/50\n",
      "22/22 [==============================] - 0s 5ms/step - loss: 0.0460 - val_loss: 0.1967\n",
      "Epoch 33/50\n",
      "22/22 [==============================] - 0s 5ms/step - loss: 0.0436 - val_loss: 0.2011\n",
      "Epoch 34/50\n",
      "22/22 [==============================] - 0s 5ms/step - loss: 0.0372 - val_loss: 0.1988\n",
      "Epoch 35/50\n",
      "22/22 [==============================] - 0s 5ms/step - loss: 0.0462 - val_loss: 0.2302\n",
      "Epoch 36/50\n",
      "22/22 [==============================] - 0s 5ms/step - loss: 0.0444 - val_loss: 0.1904\n",
      "Epoch 37/50\n",
      "22/22 [==============================] - 0s 5ms/step - loss: 0.0335 - val_loss: 0.1789\n",
      "Epoch 38/50\n",
      "22/22 [==============================] - 0s 5ms/step - loss: 0.0307 - val_loss: 0.1972\n",
      "Epoch 39/50\n",
      "22/22 [==============================] - 0s 5ms/step - loss: 0.0393 - val_loss: 0.1905\n",
      "Epoch 40/50\n",
      "22/22 [==============================] - 0s 5ms/step - loss: 0.0305 - val_loss: 0.1685\n",
      "Epoch 41/50\n",
      "22/22 [==============================] - 0s 5ms/step - loss: 0.0278 - val_loss: 0.1739\n",
      "Epoch 42/50\n",
      "22/22 [==============================] - 0s 5ms/step - loss: 0.0304 - val_loss: 0.1701\n",
      "Epoch 43/50\n",
      "22/22 [==============================] - 0s 5ms/step - loss: 0.0269 - val_loss: 0.1683\n",
      "Epoch 44/50\n",
      "22/22 [==============================] - 0s 5ms/step - loss: 0.0313 - val_loss: 0.1645\n",
      "Epoch 45/50\n",
      "22/22 [==============================] - 0s 5ms/step - loss: 0.0487 - val_loss: 0.1771\n",
      "Epoch 46/50\n",
      "22/22 [==============================] - 0s 5ms/step - loss: 0.0274 - val_loss: 0.1609\n",
      "Epoch 47/50\n",
      "22/22 [==============================] - 0s 5ms/step - loss: 0.0248 - val_loss: 0.1588\n",
      "Epoch 48/50\n",
      "22/22 [==============================] - 0s 5ms/step - loss: 0.0209 - val_loss: 0.1577\n",
      "Epoch 49/50\n",
      "22/22 [==============================] - 0s 5ms/step - loss: 0.0206 - val_loss: 0.1491\n",
      "Epoch 50/50\n",
      "22/22 [==============================] - 0s 5ms/step - loss: 0.0225 - val_loss: 0.1564\n"
     ]
    }
   ],
   "source": [
    "# Step 4: Train the model\n",
    "history = model.fit(x_train[..., np.newaxis], y_train, epochs=50, validation_data=(x_val[..., np.newaxis], y_val))"
   ]
  },
  {
   "cell_type": "code",
   "execution_count": 6,
   "metadata": {},
   "outputs": [
    {
     "name": "stdout",
     "output_type": "stream",
     "text": [
      "4/4 [==============================] - 0s 2ms/step\n",
      "RMSE: 0.3743634777484208\n"
     ]
    }
   ],
   "source": [
    "# Step 5: Evaluate the model\n",
    "y_pred = model.predict(x_test[..., np.newaxis])\n",
    "rmse = np.sqrt(np.mean((y_test - y_pred.squeeze())**2))\n",
    "print(f'RMSE: {rmse}')"
   ]
  },
  {
   "cell_type": "code",
   "execution_count": 7,
   "metadata": {},
   "outputs": [
    {
     "data": {
      "image/png": "[encoded data removed]",
      "text/plain": [
       "<Figure size 640x480 with 1 Axes>"
      ]
     },
     "metadata": {},
     "output_type": "display_data"
    }
   ],
   "source": [
    "# Plot the RMSE\n",
    "plt.plot(history.history['loss'], label='Training Loss')\n",
    "plt.plot(history.history['val_loss'], label='Validation Loss')\n",
    "plt.xlabel('Epochs')\n",
    "plt.ylabel('Loss')\n",
    "plt.legend()\n",
    "plt.show()"
   ]
  }
 ],
 "metadata": {
  "kernelspec": {
   "display_name": "MAS512_G_2024_AUTUMN",
   "language": "python",
   "name": "python3"
  },
  "language_info": {
   "codemirror_mode": {
    "name": "ipython",
    "version": 3
   },
   "file_extension": ".py",
   "mimetype": "text/x-python",
   "name": "python",
   "nbconvert_exporter": "python",
   "pygments_lexer": "ipython3",
   "version": "3.10.1"
  }
 },
 "nbformat": 4,
 "nbformat_minor": 2
}
