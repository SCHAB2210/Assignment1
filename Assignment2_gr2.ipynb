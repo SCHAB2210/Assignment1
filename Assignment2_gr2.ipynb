{
 "cells": [
  {
   "cell_type": "markdown",
   "metadata": {},
   "source": [
    "# Question 1"
   ]
  },
  {
   "cell_type": "code",
   "execution_count": 3,
   "metadata": {},
   "outputs": [
    {
     "ename": "ModuleNotFoundError",
     "evalue": "No module named 'numpy'",
     "output_type": "error",
     "traceback": [
      "\u001b[1;31m---------------------------------------------------------------------------\u001b[0m",
      "\u001b[1;31mModuleNotFoundError\u001b[0m                       Traceback (most recent call last)",
      "Cell \u001b[1;32mIn[3], line 1\u001b[0m\n\u001b[1;32m----> 1\u001b[0m \u001b[38;5;28;01mimport\u001b[39;00m \u001b[38;5;21;01mnumpy\u001b[39;00m \u001b[38;5;28;01mas\u001b[39;00m \u001b[38;5;21;01mnp\u001b[39;00m\n\u001b[0;32m      2\u001b[0m \u001b[38;5;28;01mimport\u001b[39;00m \u001b[38;5;21;01mmatplotlib\u001b[39;00m\u001b[38;5;21;01m.\u001b[39;00m\u001b[38;5;21;01mpyplot\u001b[39;00m \u001b[38;5;28;01mas\u001b[39;00m \u001b[38;5;21;01mplt\u001b[39;00m\n\u001b[0;32m      3\u001b[0m \u001b[38;5;28;01mfrom\u001b[39;00m \u001b[38;5;21;01mscipy\u001b[39;00m\u001b[38;5;21;01m.\u001b[39;00m\u001b[38;5;21;01mfft\u001b[39;00m \u001b[38;5;28;01mimport\u001b[39;00m fft, fftfreq\n",
      "\u001b[1;31mModuleNotFoundError\u001b[0m: No module named 'numpy'"
     ]
    }
   ],
   "source": [
    "import numpy as np\n",
    "import matplotlib.pyplot as plt\n",
    "from scipy.fft import fft, fftfreq"
   ]
  },
  {
   "cell_type": "code",
   "execution_count": null,
   "metadata": {},
   "outputs": [],
   "source": [
    "# Define parameters\n",
    "amplitude = 5\n",
    "frequency = 10  # Hz\n",
    "duration = 0.5  # seconds\n",
    "sampling_rate = 1000  # samples per second\n",
    "t = np.linspace(0, duration, int(sampling_rate * duration), endpoint=False)\n",
    "\n",
    "# Define Fourier Transform plotting function\n",
    "def plot_signal_and_fft(signal, title, xlabel='Time (s)', ylabel='Amplitude (V)'):\n",
    "    # Compute Fourier Transform\n",
    "    N = len(signal)\n",
    "    yf = fft(signal)\n",
    "    xf = fftfreq(N, 1 / sampling_rate)[:N // 2]\n",
    "\n",
    "    # Plot time-domain and frequency-domain\n",
    "    fig, (ax1, ax2) = plt.subplots(2, 1, figsize=(10, 6))\n",
    "    ax1.plot(t, signal)\n",
    "    ax1.set_title(f\"{title} - Time Domain\")\n",
    "    ax1.set_xlabel(xlabel)\n",
    "    ax1.set_ylabel(ylabel)\n",
    "\n",
    "    ax2.plot(xf, 2.0 / N * np.abs(yf[:N // 2]))\n",
    "    ax2.set_title(f\"{title} - Fourier Transform\")\n",
    "    ax2.set_xlabel('Frequency (Hz)')\n",
    "    ax2.set_ylabel('Magnitude')\n",
    "    plt.tight_layout()\n",
    "    plt.show()"
   ]
  },
  {
   "cell_type": "code",
   "execution_count": null,
   "metadata": {},
   "outputs": [],
   "source": [
    "# (a) Sinusoidal Signal\n",
    "sinusoidal_signal = amplitude * np.sin(2 * np.pi * frequency * t)\n",
    "plot_signal_and_fft(sinusoidal_signal, \"Sinusoidal Signal\")"
   ]
  },
  {
   "cell_type": "code",
   "execution_count": null,
   "metadata": {},
   "outputs": [],
   "source": [
    "# (b) Triangular Waveform\n",
    "triangular_signal = amplitude * np.abs(np.mod(t * frequency, 1) * 2 - 1) * 2 - amplitude\n",
    "plot_signal_and_fft(triangular_signal, \"Triangular Waveform\")"
   ]
  },
  {
   "cell_type": "code",
   "execution_count": null,
   "metadata": {},
   "outputs": [],
   "source": [
    "# (c) Single Pulse Waveform\n",
    "pulse_single = np.zeros_like(t)\n",
    "pulse_single[:int(0.2 * len(t))] = amplitude\n",
    "plot_signal_and_fft(pulse_single, \"Single Pulse Waveform\")"
   ]
  },
  {
   "cell_type": "code",
   "execution_count": null,
   "metadata": {},
   "outputs": [],
   "source": [
    "# (d) Pulse Train\n",
    "pulse_train = (np.mod(t, 0.1) < 0.02).astype(float) * amplitude\n",
    "plot_signal_and_fft(pulse_train, \"Pulse Train\")"
   ]
  },
  {
   "cell_type": "code",
   "execution_count": null,
   "metadata": {},
   "outputs": [],
   "source": [
    "# (e) Chirp Signal\n",
    "chirp_signal = amplitude * np.sin(2 * np.pi * (10 * t + (20 - 10) / (2 * duration) * t**2))\n",
    "plot_signal_and_fft(chirp_signal, \"Chirp Signal\")"
   ]
  }
 ],
 "metadata": {
  "kernelspec": {
   "display_name": "MAS512",
   "language": "python",
   "name": "python3"
  },
  "language_info": {
   "codemirror_mode": {
    "name": "ipython",
    "version": 3
   },
   "file_extension": ".py",
   "mimetype": "text/x-python",
   "name": "python",
   "nbconvert_exporter": "python",
   "pygments_lexer": "ipython3",
   "version": "3.10.11"
  }
 },
 "nbformat": 4,
 "nbformat_minor": 2
}
