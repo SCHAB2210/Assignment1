{
 "cells": [
  {
   "cell_type": "code",
   "execution_count": 1,
   "metadata": {},
   "outputs": [],
   "source": [
    "import numpy as np\n",
    "from PIL import Image"
   ]
  },
  {
   "cell_type": "code",
   "execution_count": 9,
   "metadata": {},
   "outputs": [],
   "source": [
    "# Step 1: Generate matrices A and B\n",
    "A = np.random.randn(64, 64).astype(np.int32)\n",
    "B = np.random.randn(64, 64).astype(np.int32)\n",
    "image_A = Image.fromarray(A)\n",
    "image_B = Image.fromarray(B)\n",
    "H_A = np.hstack((A, B))\n",
    "H_B = np.vstack((A, B))\n",
    "image_H_A = Image.fromarray(H_A)\n",
    "image_H_B = Image.fromarray(H_B)\n",
    "array_H_A = np.array(image_H_A)\n",
    "array_H_B = np.array(image_H_B)\n",
    "\n",
    "\n",
    "image_H_A.show()\n",
    "image_H_B.show()\n"
   ]
  },
  {
   "cell_type": "code",
   "execution_count": 13,
   "metadata": {},
   "outputs": [],
   "source": [
    "# Chessboard test:\n",
    "# Step 1: Generate a chessboard pattern\n",
    "def create_chessboard(size):\n",
    "    chessboard = np.zeros((size, size), dtype=np.int32)\n",
    "    s = size // 8\n",
    "    for i in range(8):\n",
    "        for j in range(8):\n",
    "            if (i + j) % 2 == 0:\n",
    "                chessboard[i*s:(i+1)*s, j*s:(j+1)*s] = 255  # White square\n",
    "    return chessboard\n",
    "\n",
    "A = create_chessboard(64)\n",
    "B = create_chessboard(64)\n",
    "\n",
    "# Step 2: Convert matrices to images\n",
    "image_A = Image.fromarray(A)\n",
    "image_B = Image.fromarray(B)\n",
    "\n",
    "# Step 3: Perform horizontal and vertical concatenation\n",
    "H_A = np.hstack((A, B))\n",
    "H_B = np.vstack((A, B))\n",
    "\n",
    "# Convert concatenated arrays to images\n",
    "image_H_A = Image.fromarray(H_A)\n",
    "image_H_B = Image.fromarray(H_B)\n",
    "\n",
    "# Step 4: Convert images back to numpy arrays\n",
    "array_H_A = np.array(image_H_A)\n",
    "array_H_B = np.array(image_H_B)\n",
    "\n",
    "# Display the results\n",
    "image_H_A.show()\n",
    "image_H_B.show()\n"
   ]
  }
 ],
 "metadata": {
  "kernelspec": {
   "display_name": "MAS512",
   "language": "python",
   "name": "python3"
  },
  "language_info": {
   "codemirror_mode": {
    "name": "ipython",
    "version": 3
   },
   "file_extension": ".py",
   "mimetype": "text/x-python",
   "name": "python",
   "nbconvert_exporter": "python",
   "pygments_lexer": "ipython3",
   "version": "3.10.11"
  }
 },
 "nbformat": 4,
 "nbformat_minor": 2
}
